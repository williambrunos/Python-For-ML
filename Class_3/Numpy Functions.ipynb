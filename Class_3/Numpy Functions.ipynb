{
 "cells": [
  {
   "cell_type": "code",
   "execution_count": 1,
   "id": "fae090d6",
   "metadata": {},
   "outputs": [],
   "source": [
    "import numpy as np"
   ]
  },
  {
   "cell_type": "code",
   "execution_count": 4,
   "id": "7b2bedd2",
   "metadata": {},
   "outputs": [
    {
     "name": "stdout",
     "output_type": "stream",
     "text": [
      "(10, 12)\n"
     ]
    }
   ],
   "source": [
    "vendas_anos = np.array([[149, 499, 112, 430, 115, 390, 187, 316, 361, 483, 353, 400],\n",
    "                        [258, 222, 461, 263, 384, 210, 452, 372, 417, 364, 468, 397],\n",
    "                        [259, 329, 417, 132, 318, 256, 362, 496, 232, 132, 306, 174],\n",
    "                        [117, 148, 480, 201, 160, 292, 146, 209, 298, 215, 358, 234],\n",
    "                        [169, 229, 381, 119, 225, 270, 379, 272, 167, 332, 144, 359],\n",
    "                        [358, 434, 228, 300, 122, 247, 142, 127, 191, 356, 450, 308],\n",
    "                        [105, 251, 317, 147, 214, 280, 289, 338, 498, 133, 304, 225],\n",
    "                        [156, 165, 299, 461, 290, 123, 451, 450, 353, 191, 167, 451],\n",
    "                        [149, 377, 389, 176, 103, 439, 269, 132, 200, 391, 426, 175],\n",
    "                        [137, 107, 229, 227, 198, 206, 432, 169, 323, 141, 155, 233]])\n",
    "\n",
    "print(vendas_anos.shape) # anos x mês"
   ]
  },
  {
   "cell_type": "markdown",
   "id": "b6a2a43e",
   "metadata": {},
   "source": [
    "## Sales and Month Means\n",
    "\n",
    "Supose that you are requested to calculate the sales mean among each year and the sales mean among each month."
   ]
  },
  {
   "cell_type": "code",
   "execution_count": 9,
   "id": "def72dbd",
   "metadata": {},
   "outputs": [],
   "source": [
    "def calculate_sales_mean_among_years(sales_data):\n",
    "    amount_of_years = sales_data.shape[0]\n",
    "    mean_of_sales_of_all_years = []\n",
    "    \n",
    "    for i in range(amount_of_years):\n",
    "        sales_on_current_year = sales_data[i, :]\n",
    "        mean_of_sales_on_current_year = sales_on_current_year.mean()\n",
    "        mean_of_sales_of_all_years.append(mean_of_sales_on_current_year)\n",
    "    \n",
    "    return mean_of_sales_of_all_years"
   ]
  },
  {
   "cell_type": "code",
   "execution_count": 28,
   "id": "efb6e312",
   "metadata": {},
   "outputs": [
    {
     "name": "stdout",
     "output_type": "stream",
     "text": [
      "2011: 316.25\n",
      "2012: 355.6666666666667\n",
      "2013: 284.4166666666667\n",
      "2014: 238.16666666666666\n",
      "2015: 253.83333333333334\n",
      "2016: 271.9166666666667\n",
      "2017: 258.4166666666667\n",
      "2018: 296.4166666666667\n",
      "2019: 268.8333333333333\n",
      "2020: 213.08333333333334\n"
     ]
    }
   ],
   "source": [
    "sales_mean_among_years = calculate_sales_mean_among_years(vendas_anos)\n",
    "months = ['January', 'February', 'March', 'April', 'May', 'June', 'July', 'August', 'September', 'October', 'November', 'December']\n",
    "years = [2011, 2012, 2013, 2014, 2015, 2016, 2017, 2018, 2019, 2020]\n",
    "for index, mean in enumerate(sales_mean_among_years):\n",
    "    print(f'{years[index]}: {mean}')"
   ]
  },
  {
   "cell_type": "code",
   "execution_count": 16,
   "id": "200347e3",
   "metadata": {},
   "outputs": [],
   "source": [
    "def calculate_sales_mean_among_months(sales_data):\n",
    "    months = sales_data.shape[1]\n",
    "    mean_of_sales_among_months = []\n",
    "    \n",
    "    for month_index in range(months):\n",
    "        sales_per_month = sales_data[:, month_index]\n",
    "        mean_of_sales_per_month = sales_per_month.mean()\n",
    "        mean_of_sales_among_months.append(mean_of_sales_per_month)\n",
    "        \n",
    "    return mean_of_sales_among_months"
   ]
  },
  {
   "cell_type": "code",
   "execution_count": 21,
   "id": "c1db0113",
   "metadata": {},
   "outputs": [
    {
     "name": "stdout",
     "output_type": "stream",
     "text": [
      "January: 185.7\n",
      "February: 276.1\n",
      "March: 331.3\n",
      "April: 245.6\n",
      "May: 212.9\n",
      "June: 271.3\n",
      "July: 310.9\n",
      "August: 288.1\n",
      "September: 304.0\n",
      "October: 273.8\n",
      "November: 313.1\n",
      "December: 295.6\n"
     ]
    }
   ],
   "source": [
    "sales_mean_among_months = calculate_sales_mean_among_months(vendas_anos)\n",
    "\n",
    "for index, mean in enumerate(sales_mean_among_months):\n",
    "    print(f'{months[index]}: {mean}')"
   ]
  },
  {
   "cell_type": "code",
   "execution_count": 23,
   "id": "b88c2956",
   "metadata": {},
   "outputs": [
    {
     "name": "stdout",
     "output_type": "stream",
     "text": [
      "Sales mean among years: [316.25       355.66666667 284.41666667 238.16666667 253.83333333\n",
      " 271.91666667 258.41666667 296.41666667 268.83333333 213.08333333]\n",
      "Sales mean among months: [185.7 276.1 331.3 245.6 212.9 271.3 310.9 288.1 304.  273.8 313.1 295.6]\n"
     ]
    }
   ],
   "source": [
    "print(f'Sales mean among years: {vendas_anos.mean(axis=1)}')\n",
    "print(f'Sales mean among months: {vendas_anos.mean(axis=0)}')"
   ]
  },
  {
   "cell_type": "markdown",
   "id": "44bcb52e",
   "metadata": {},
   "source": [
    "What was the greatest sale among all years?\n",
    "\n",
    "**obs**: axis=0 -> among rows; aixs=1 -> among collumns\n",
    "    \n",
    "      ---------> 1\n",
    "    | [1, 2, 3]\n",
    "    | [4, 5, 6]\n",
    "    | [7, 8, 9]\n",
    "    0"
   ]
  },
  {
   "cell_type": "code",
   "execution_count": 25,
   "id": "7cd8958c",
   "metadata": {},
   "outputs": [
    {
     "name": "stdout",
     "output_type": "stream",
     "text": [
      "Sum of sales of all years: [3795 4268 3413 2858 3046 3263 3101 3557 3226 2557]\n",
      "Greatest sale of all years: 4268\n"
     ]
    }
   ],
   "source": [
    "print(f'Sum of sales of all years: {vendas_anos.sum(axis=1)}')\n",
    "print(f'Greatest sale of all years: {max(vendas_anos.sum(axis=1))}')"
   ]
  },
  {
   "cell_type": "markdown",
   "id": "75d5dc74",
   "metadata": {},
   "source": [
    "Now, what's the greatest sale of all months?"
   ]
  },
  {
   "cell_type": "code",
   "execution_count": 27,
   "id": "678d0fec",
   "metadata": {},
   "outputs": [
    {
     "name": "stdout",
     "output_type": "stream",
     "text": [
      "Sum of sales of all months: [1857 2761 3313 2456 2129 2713 3109 2881 3040 2738 3131 2956]\n",
      "Greatest sale of all months: 3313\n"
     ]
    }
   ],
   "source": [
    "print(f'Sum of sales of all months: {vendas_anos.sum(axis=0)}')\n",
    "print(f'Greatest sale of all months: {max(vendas_anos.sum(axis=0))}')"
   ]
  }
 ],
 "metadata": {
  "kernelspec": {
   "display_name": "Python 3 (ipykernel)",
   "language": "python",
   "name": "python3"
  },
  "language_info": {
   "codemirror_mode": {
    "name": "ipython",
    "version": 3
   },
   "file_extension": ".py",
   "mimetype": "text/x-python",
   "name": "python",
   "nbconvert_exporter": "python",
   "pygments_lexer": "ipython3",
   "version": "3.7.6"
  }
 },
 "nbformat": 4,
 "nbformat_minor": 5
}
