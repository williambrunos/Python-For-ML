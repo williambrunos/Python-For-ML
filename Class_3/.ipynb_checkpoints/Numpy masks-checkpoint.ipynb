{
 "cells": [
  {
   "cell_type": "code",
   "execution_count": 5,
   "id": "94cd4622",
   "metadata": {},
   "outputs": [],
   "source": [
    "import numpy as np\n",
    "import numpy.ma as ma\n",
    "from random import sample"
   ]
  },
  {
   "cell_type": "markdown",
   "id": "fb313cfe",
   "metadata": {},
   "source": [
    "## What are masks?\n",
    "\n",
    "We can apply a mask into an array to \"clean\" the data into it. For this, we are going to use the ``numpy.ma`` module."
   ]
  },
  {
   "cell_type": "code",
   "execution_count": 3,
   "id": "ab059bd5",
   "metadata": {},
   "outputs": [],
   "source": [
    "dados_invalidos = np.array([1, 2, 3, np.nan, 5])"
   ]
  },
  {
   "cell_type": "code",
   "execution_count": 4,
   "id": "20bfd964",
   "metadata": {},
   "outputs": [
    {
     "data": {
      "text/plain": [
       "masked_array(data=[1.0, 2.0, 3.0, --, 5.0],\n",
       "             mask=[False, False, False,  True, False],\n",
       "       fill_value=1e+20)"
      ]
     },
     "execution_count": 4,
     "metadata": {},
     "output_type": "execute_result"
    }
   ],
   "source": [
    "dados_mascarados = ma.masked_array(dados_invalidos, mask=[False, False, False, True, False])\n",
    "dados_mascarados"
   ]
  },
  {
   "cell_type": "markdown",
   "id": "19876fa1",
   "metadata": {},
   "source": [
    "## Masking an Array\n",
    "\n",
    "On the other example, we masked the NaN values from the array just because we knew the position of it on the array. Now, we are going to learn **how to mask a numpy array just knowing the value to mask**."
   ]
  },
  {
   "cell_type": "code",
   "execution_count": 6,
   "id": "4edc515a",
   "metadata": {},
   "outputs": [
    {
     "name": "stdout",
     "output_type": "stream",
     "text": [
      "[-999 -999    2    3    4 -999    6    7    8    9   10   11   12 -999\n",
      "   14   15 -999   17   18   19]\n"
     ]
    }
   ],
   "source": [
    "array_invalido = np.arange(20)\n",
    "indices = sample(array_invalido.data, k=5)\n",
    "array_invalido[indices] = -999\n",
    "print(array_invalido) # [ 0 1 -999 3 -999 5 -999 7 8 9 10 11 12 -999 14 -999 16 17 18 19]"
   ]
  },
  {
   "cell_type": "code",
   "execution_count": 7,
   "id": "ceea63c1",
   "metadata": {},
   "outputs": [
    {
     "name": "stdout",
     "output_type": "stream",
     "text": [
      "[-- -- 2 3 4 -- 6 7 8 9 10 11 12 -- 14 15 -- 17 18 19]\n"
     ]
    }
   ],
   "source": [
    "array_mascarado = ma.masked_where(array_invalido == -999, array_invalido)\n",
    "print(array_mascarado)"
   ]
  },
  {
   "cell_type": "code",
   "execution_count": 8,
   "id": "8a90b24a",
   "metadata": {},
   "outputs": [
    {
     "data": {
      "text/plain": [
       "array([-999, -999, -999, -999, -999])"
      ]
     },
     "execution_count": 8,
     "metadata": {},
     "output_type": "execute_result"
    }
   ],
   "source": [
    "array_invalido[array_invalido < 0]"
   ]
  },
  {
   "cell_type": "code",
   "execution_count": 14,
   "id": "dcacf222",
   "metadata": {},
   "outputs": [
    {
     "data": {
      "text/plain": [
       "array([20, 40, 60])"
      ]
     },
     "execution_count": 14,
     "metadata": {},
     "output_type": "execute_result"
    }
   ],
   "source": [
    "np.array([10, 20, 30]) * 2"
   ]
  }
 ],
 "metadata": {
  "kernelspec": {
   "display_name": "Python 3",
   "language": "python",
   "name": "python3"
  },
  "language_info": {
   "codemirror_mode": {
    "name": "ipython",
    "version": 3
   },
   "file_extension": ".py",
   "mimetype": "text/x-python",
   "name": "python",
   "nbconvert_exporter": "python",
   "pygments_lexer": "ipython3",
   "version": "3.8.8"
  }
 },
 "nbformat": 4,
 "nbformat_minor": 5
}
