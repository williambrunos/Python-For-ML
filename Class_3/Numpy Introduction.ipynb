{
 "cells": [
  {
   "cell_type": "code",
   "execution_count": 5,
   "id": "480d182f",
   "metadata": {},
   "outputs": [],
   "source": [
    "import numpy as np"
   ]
  },
  {
   "cell_type": "markdown",
   "id": "1281fcf8",
   "metadata": {},
   "source": [
    "## What is an array?\n",
    "\n",
    "In programming, arrays are data structures built on a sequencial way in the RAM memory of the machine. For doing this sequencial allocation, arrays must contain data with the same type, which is different from the lists where you can store different data types in a single list.\n",
    "\n",
    "Here, we gonna build arrays with the numpy module, building a numpy array object that can allow us to use attributes and a lot of methods (functions)."
   ]
  },
  {
   "cell_type": "code",
   "execution_count": 1,
   "id": "6319dda9",
   "metadata": {},
   "outputs": [
    {
     "data": {
      "text/plain": [
       "[1, 2, 3, 4, 1, 2, 3, 4]"
      ]
     },
     "execution_count": 1,
     "metadata": {},
     "output_type": "execute_result"
    }
   ],
   "source": [
    "# Trying to multiplie the values of a list by 2\n",
    "grades = [1, 2, 3, 4]\n",
    "grades * 2"
   ]
  },
  {
   "cell_type": "code",
   "execution_count": 4,
   "id": "9059a635",
   "metadata": {},
   "outputs": [
    {
     "data": {
      "text/plain": [
       "[2, 4, 6, 8]"
      ]
     },
     "execution_count": 4,
     "metadata": {},
     "output_type": "execute_result"
    }
   ],
   "source": [
    "list(map(lambda grade : grade * 2, grades))"
   ]
  },
  {
   "cell_type": "markdown",
   "id": "a15ea32d",
   "metadata": {},
   "source": [
    "## Building Matrices\n",
    "\n",
    "Each list passed as argument for the ``array`` function from np module is a line of the matrix.\n",
    "\n",
    "For 1D:"
   ]
  },
  {
   "cell_type": "code",
   "execution_count": 7,
   "id": "72e2304f",
   "metadata": {},
   "outputs": [
    {
     "data": {
      "text/plain": [
       "array([1, 2, 3, 4])"
      ]
     },
     "execution_count": 7,
     "metadata": {},
     "output_type": "execute_result"
    }
   ],
   "source": [
    "matrix_1d = np.array([1, 2, 3, 4])\n",
    "matrix_1d"
   ]
  },
  {
   "cell_type": "markdown",
   "id": "edefd150",
   "metadata": {},
   "source": [
    "For 2D:"
   ]
  },
  {
   "cell_type": "code",
   "execution_count": 8,
   "id": "659350c6",
   "metadata": {},
   "outputs": [
    {
     "data": {
      "text/plain": [
       "array([[ 1,  2,  3,  4],\n",
       "       [ 5,  6,  7,  8],\n",
       "       [ 9, 10, 11, 12]])"
      ]
     },
     "execution_count": 8,
     "metadata": {},
     "output_type": "execute_result"
    }
   ],
   "source": [
    "matrix_2d = np.array([[1, 2, 3, 4], [5, 6, 7, 8], [9, 10, 11, 12]])\n",
    "matrix_2d"
   ]
  },
  {
   "cell_type": "code",
   "execution_count": 11,
   "id": "a69b1bbb",
   "metadata": {},
   "outputs": [
    {
     "name": "stdout",
     "output_type": "stream",
     "text": [
      "[1 2 3 4]\n",
      "[2 4 6 8]\n"
     ]
    }
   ],
   "source": [
    "# Multiplying each element of grades by 2 | much more simple\n",
    "grades_np = np.array(grades)\n",
    "print(grades_np)\n",
    "print(grades_np * 2)"
   ]
  },
  {
   "cell_type": "markdown",
   "id": "676e8349",
   "metadata": {},
   "source": [
    "## Math Operations\n",
    "\n",
    "Numpy arrays works like vectors (Physics and Math). So, the math operations are made as in Math, like the sum of two vectors reults on a new vector with elements as the result of the sum of the two positional corresponding elements of the other two vectors.\n",
    "\n",
    "**Element Wise Operations**"
   ]
  },
  {
   "cell_type": "code",
   "execution_count": 12,
   "id": "d0a41f93",
   "metadata": {},
   "outputs": [
    {
     "name": "stdout",
     "output_type": "stream",
     "text": [
      "[5 7 9]\n",
      "[ 4 10 18]\n"
     ]
    }
   ],
   "source": [
    "vector_1 = np.array([1, 2, 3])\n",
    "vector_2 = np.array([4, 5, 6])\n",
    "print(vector_1 + vector_2)\n",
    "print(vector_1 * vector_2)"
   ]
  },
  {
   "cell_type": "markdown",
   "id": "bffac6c4",
   "metadata": {},
   "source": [
    "## Matrices Shape or Dimensions\n",
    "\n",
    "We can discover the shape of a matrice using the ``shape`` attribute, which returns a tuple like ``(rows, columns)``, or discover the dimension of the matrix using the ``ndim`` function."
   ]
  },
  {
   "cell_type": "code",
   "execution_count": 17,
   "id": "01307cdd",
   "metadata": {
    "scrolled": false
   },
   "outputs": [
    {
     "name": "stdout",
     "output_type": "stream",
     "text": [
      "(4,)\n",
      "1\n",
      "(3, 4)\n",
      "2\n"
     ]
    }
   ],
   "source": [
    "print(matrix_1d.shape)\n",
    "print(matrix_1d.ndim)\n",
    "print(matrix_2d.shape)\n",
    "print(matrix_2d.ndim)"
   ]
  },
  {
   "cell_type": "markdown",
   "id": "cff25150",
   "metadata": {},
   "source": [
    "## Matrix Multiplication\n",
    "\n",
    "The multiplication among matrices is done with the ``dot`` function, respecting the rules of the dimensions for doing the multiplication."
   ]
  },
  {
   "cell_type": "markdown",
   "id": "f95b221e",
   "metadata": {},
   "source": [
    "## Broadcasting\n",
    "\n",
    "Check the broadcasting article by USP: https://panda.ime.usp.br/algoritmos/static/algoritmos/03-adt3-arrays.html#operacoes-entre-arrays-de-tamanhos-distintos"
   ]
  },
  {
   "cell_type": "markdown",
   "id": "7c745b9c",
   "metadata": {},
   "source": [
    "### Pratice\n",
    "\n",
    "Supose a certain 2D matrix A, we want to rotate A which is the point (3, 4) on the 2d plan XY by 180°. We can do it multiplying A by D, being D:\n",
    "\n",
    "$$D = \\begin{bmatrix}-1 & 0 \\\\ 0 & -1\\end{bmatrix}$$\n",
    "\n",
    "We can see that the shapes of the matrices are: $A_{1x2}$ and $D_{2x2}$. So, the matrix product among A and D results on a new rotated matrix $R_{1x2}$"
   ]
  },
  {
   "cell_type": "code",
   "execution_count": 21,
   "id": "8164c6a9",
   "metadata": {},
   "outputs": [
    {
     "data": {
      "text/plain": [
       "array([-3, -4])"
      ]
     },
     "execution_count": 21,
     "metadata": {},
     "output_type": "execute_result"
    }
   ],
   "source": [
    "A = np.array([3, 4])\n",
    "D = np.array([[-1, 0], [0, -1]])\n",
    "rotated_point = np.dot(A, D)\n",
    "rotated_point"
   ]
  },
  {
   "cell_type": "markdown",
   "id": "d67e05c3",
   "metadata": {},
   "source": [
    "## Data types\n",
    "\n",
    "Check out for more data types of arrays: http://www.estruturas.ufpr.br/disciplinas/pos-graduacao/introducao-a-computacao-cientifica-com-python/introducao-python/2-3-arrays-mais-elaborados/"
   ]
  },
  {
   "cell_type": "markdown",
   "id": "0510bf56",
   "metadata": {},
   "source": [
    "## Arrange and Linspace"
   ]
  },
  {
   "cell_type": "code",
   "execution_count": 22,
   "id": "370d29b1",
   "metadata": {},
   "outputs": [
    {
     "name": "stdout",
     "output_type": "stream",
     "text": [
      "[0 1 2 3 4]\n",
      "[0.  0.4 0.8 1.2 1.6]\n",
      "[0.  0.5 1.  1.5 2. ]\n"
     ]
    }
   ],
   "source": [
    "print(np.arange(5))\n",
    "print(np.arange(0, 2, 0.4))\n",
    "print(np.linspace(0, 2, 5))"
   ]
  }
 ],
 "metadata": {
  "kernelspec": {
   "display_name": "Python 3 (ipykernel)",
   "language": "python",
   "name": "python3"
  },
  "language_info": {
   "codemirror_mode": {
    "name": "ipython",
    "version": 3
   },
   "file_extension": ".py",
   "mimetype": "text/x-python",
   "name": "python",
   "nbconvert_exporter": "python",
   "pygments_lexer": "ipython3",
   "version": "3.7.6"
  }
 },
 "nbformat": 4,
 "nbformat_minor": 5
}
