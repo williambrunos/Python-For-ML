{
 "cells": [
  {
   "cell_type": "code",
   "execution_count": 19,
   "id": "03ffa805",
   "metadata": {},
   "outputs": [],
   "source": [
    "import itertools\n",
    "import numpy as np"
   ]
  },
  {
   "cell_type": "markdown",
   "id": "e3da1973",
   "metadata": {},
   "source": [
    "## Itertools\n",
    "\n",
    "Itertools is a python module destinated for paralel data processing, which standardizes functions with great perfom and memory usage.\n",
    "\n",
    "### Combinations\n",
    "\n",
    "In combinations, the order of the elements doesn't matter.\n",
    "\n",
    "``itertools.combinations(list, number_of_elements_per_combinations)``"
   ]
  },
  {
   "cell_type": "code",
   "execution_count": 3,
   "id": "389a2ef6",
   "metadata": {},
   "outputs": [],
   "source": [
    "prices = {'coxinha': 1, 'pão_de_queijo': 2, 'folheado': 1.5, 'pastel': 3, 'esfiha': 1.5, 'empada': 1.75}"
   ]
  },
  {
   "cell_type": "code",
   "execution_count": 10,
   "id": "3c84c761",
   "metadata": {},
   "outputs": [
    {
     "name": "stdout",
     "output_type": "stream",
     "text": [
      "[('coxinha', 'pão_de_queijo'), ('coxinha', 'folheado'), ('coxinha', 'pastel'), ('coxinha', 'esfiha'), ('coxinha', 'empada'), ('pão_de_queijo', 'folheado'), ('pão_de_queijo', 'pastel'), ('pão_de_queijo', 'esfiha'), ('pão_de_queijo', 'empada'), ('folheado', 'pastel'), ('folheado', 'esfiha'), ('folheado', 'empada'), ('pastel', 'esfiha'), ('pastel', 'empada'), ('esfiha', 'empada')]\n"
     ]
    }
   ],
   "source": [
    "print(list(itertools.combinations(['coxinha', 'pão_de_queijo', 'folheado', 'pastel', 'esfiha', 'empada'], 2)))"
   ]
  },
  {
   "cell_type": "code",
   "execution_count": 50,
   "id": "72dac903",
   "metadata": {},
   "outputs": [],
   "source": [
    "def discover_the_cheapest_combination(combinations, prices):\n",
    "    prices_return = []\n",
    "    for combination in combinations:\n",
    "        price = prices[str(combination[0])] + prices[str(combination[1])]\n",
    "        prices_return.append(price)\n",
    "    min_price = min(prices_return)\n",
    "    return np.where(np.array(prices_return) == min_price)"
   ]
  },
  {
   "cell_type": "code",
   "execution_count": 51,
   "id": "238a6149",
   "metadata": {},
   "outputs": [
    {
     "data": {
      "text/plain": [
       "(array([1, 3], dtype=int64),)"
      ]
     },
     "execution_count": 51,
     "metadata": {},
     "output_type": "execute_result"
    }
   ],
   "source": [
    "data = list(itertools.combinations(['coxinha', 'pão_de_queijo', 'folheado', 'pastel', 'esfiha', 'empada'], 2))\n",
    "data = np.array(data)\n",
    "discover_the_cheapest_combination(data, prices)"
   ]
  },
  {
   "cell_type": "markdown",
   "id": "f39577a1",
   "metadata": {},
   "source": [
    "## Permutations\n",
    "\n",
    "Permutations are another important count function.\n",
    "\n",
    "``itertools.permutation(list)``"
   ]
  },
  {
   "cell_type": "code",
   "execution_count": 41,
   "id": "4aa2f827",
   "metadata": {},
   "outputs": [],
   "source": []
  }
 ],
 "metadata": {
  "kernelspec": {
   "display_name": "Python 3",
   "language": "python",
   "name": "python3"
  },
  "language_info": {
   "codemirror_mode": {
    "name": "ipython",
    "version": 3
   },
   "file_extension": ".py",
   "mimetype": "text/x-python",
   "name": "python",
   "nbconvert_exporter": "python",
   "pygments_lexer": "ipython3",
   "version": "3.8.8"
  }
 },
 "nbformat": 4,
 "nbformat_minor": 5
}
