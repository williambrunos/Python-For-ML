{
 "cells": [
  {
   "cell_type": "code",
   "execution_count": 19,
   "id": "03ffa805",
   "metadata": {},
   "outputs": [],
   "source": [
    "import itertools\n",
    "import numpy as np"
   ]
  },
  {
   "cell_type": "markdown",
   "id": "e3da1973",
   "metadata": {},
   "source": [
    "## Itertools\n",
    "\n",
    "Itertools is a python module destinated for paralel data processing, which standardizes functions with great perfom and memory usage.\n",
    "\n",
    "### Combinations\n",
    "\n",
    "In combinations, the order of the elements doesn't matter.\n",
    "\n",
    "``itertools.combinations(list, number_of_elements_per_combinations)``"
   ]
  },
  {
   "cell_type": "code",
   "execution_count": 3,
   "id": "389a2ef6",
   "metadata": {},
   "outputs": [],
   "source": [
    "prices = {'coxinha': 1, 'pão_de_queijo': 2, 'folheado': 1.5, 'pastel': 3, 'esfiha': 1.5, 'empada': 1.75}"
   ]
  },
  {
   "cell_type": "code",
   "execution_count": 10,
   "id": "3c84c761",
   "metadata": {},
   "outputs": [
    {
     "name": "stdout",
     "output_type": "stream",
     "text": [
      "[('coxinha', 'pão_de_queijo'), ('coxinha', 'folheado'), ('coxinha', 'pastel'), ('coxinha', 'esfiha'), ('coxinha', 'empada'), ('pão_de_queijo', 'folheado'), ('pão_de_queijo', 'pastel'), ('pão_de_queijo', 'esfiha'), ('pão_de_queijo', 'empada'), ('folheado', 'pastel'), ('folheado', 'esfiha'), ('folheado', 'empada'), ('pastel', 'esfiha'), ('pastel', 'empada'), ('esfiha', 'empada')]\n"
     ]
    }
   ],
   "source": [
    "print(list(itertools.combinations(['coxinha', 'pão_de_queijo', 'folheado', 'pastel', 'esfiha', 'empada'], 2)))"
   ]
  },
  {
   "cell_type": "code",
   "execution_count": 50,
   "id": "72dac903",
   "metadata": {},
   "outputs": [],
   "source": [
    "def discover_the_cheapest_combination(combinations, prices):\n",
    "    prices_return = []\n",
    "    for combination in combinations:\n",
    "        price = prices[str(combination[0])] + prices[str(combination[1])]\n",
    "        prices_return.append(price)\n",
    "    min_price = min(prices_return)\n",
    "    return np.where(np.array(prices_return) == min_price)"
   ]
  },
  {
   "cell_type": "code",
   "execution_count": 51,
   "id": "238a6149",
   "metadata": {},
   "outputs": [
    {
     "data": {
      "text/plain": [
       "(array([1, 3], dtype=int64),)"
      ]
     },
     "execution_count": 51,
     "metadata": {},
     "output_type": "execute_result"
    }
   ],
   "source": [
    "data = list(itertools.combinations(['coxinha', 'pão_de_queijo', 'folheado', 'pastel', 'esfiha', 'empada'], 2))\n",
    "data = np.array(data)\n",
    "discover_the_cheapest_combination(data, prices)"
   ]
  },
  {
   "cell_type": "markdown",
   "id": "f39577a1",
   "metadata": {},
   "source": [
    "## Permutations\n",
    "\n",
    "Permutations are another important count function.\n",
    "\n",
    "``itertools.permutation(list)``"
   ]
  },
  {
   "cell_type": "markdown",
   "id": "3bf98bce",
   "metadata": {},
   "source": [
    "## Regex"
   ]
  },
  {
   "cell_type": "code",
   "execution_count": 1,
   "id": "0d325f76",
   "metadata": {},
   "outputs": [],
   "source": [
    "import re"
   ]
  },
  {
   "cell_type": "code",
   "execution_count": 2,
   "id": "f4c7d353",
   "metadata": {},
   "outputs": [],
   "source": [
    "palavra = r'otorrinolaringologista 816'"
   ]
  },
  {
   "cell_type": "code",
   "execution_count": 4,
   "id": "0835e5a9",
   "metadata": {},
   "outputs": [
    {
     "name": "stdout",
     "output_type": "stream",
     "text": [
      "rino\n"
     ]
    }
   ],
   "source": [
    "print(re.search(r'rino', palavra).group(0))"
   ]
  },
  {
   "cell_type": "code",
   "execution_count": 5,
   "id": "8d7c7ee7",
   "metadata": {},
   "outputs": [
    {
     "name": "stdout",
     "output_type": "stream",
     "text": [
      "ri\n"
     ]
    }
   ],
   "source": [
    "print(re.search(r'ri', palavra).group(0))"
   ]
  },
  {
   "cell_type": "code",
   "execution_count": 8,
   "id": "4bcc8f4d",
   "metadata": {},
   "outputs": [
    {
     "name": "stdout",
     "output_type": "stream",
     "text": [
      "None\n"
     ]
    }
   ],
   "source": [
    "print(re.search(r'100', palavra))"
   ]
  },
  {
   "cell_type": "code",
   "execution_count": 24,
   "id": "43f961e5",
   "metadata": {},
   "outputs": [
    {
     "name": "stdout",
     "output_type": "stream",
     "text": [
      "['(46)', '(89)', '(61)']\n"
     ]
    }
   ],
   "source": [
    "palavra = r\"\"\"Laura Maria da Silva\\n(46) 93201-6392\\n(89) 42010-7411\\n(61) 47405-4895\\nRua José Geraldo\\nlauramaria@hotmail.com\\nLe@d Dell\n",
    "        Technologies\"\"\"\n",
    "\n",
    "print(re.findall(r'\\W\\d{2}\\W', palavra)) # encontrar todos os DDD's"
   ]
  },
  {
   "cell_type": "code",
   "execution_count": 15,
   "id": "0ad9348a",
   "metadata": {},
   "outputs": [
    {
     "name": "stdout",
     "output_type": "stream",
     "text": [
      "['93201-6392', '42010-7411', '47405-4895']\n"
     ]
    }
   ],
   "source": [
    "print(re.findall(r'\\d{5}\\W\\d{4}', palavra)) # encontrar todos os números sem DDD's"
   ]
  },
  {
   "cell_type": "code",
   "execution_count": 25,
   "id": "e26aa943",
   "metadata": {},
   "outputs": [
    {
     "name": "stdout",
     "output_type": "stream",
     "text": [
      "['(46) 93201-6392', '(89) 42010-7411', '(61) 47405-4895']\n"
     ]
    }
   ],
   "source": [
    "print(re.findall(r'\\W\\d{2}\\W\\s\\d{5}\\W\\d{4}', palavra)) # encontrar todos os números com DDD's"
   ]
  },
  {
   "cell_type": "code",
   "execution_count": 27,
   "id": "66655a19",
   "metadata": {},
   "outputs": [],
   "source": [
    "palavra = r\"\"\"Laura Maria da Silva\\n(46) 93201-6392\\n42010-7411\\n(61) 47405-4895\\nRua José Geraldo\\nlauramaria@hotmail.com\\nLe@d Dell Technologies\"\"\""
   ]
  },
  {
   "cell_type": "code",
   "execution_count": 28,
   "id": "ee446a47",
   "metadata": {},
   "outputs": [
    {
     "name": "stdout",
     "output_type": "stream",
     "text": [
      "['(46) 93201-6392', '42010-7411', '(61) 47405-4895']\n"
     ]
    }
   ],
   "source": [
    "print(re.findall(r'\\W\\d{2}\\W\\s\\d{5}\\W\\d{4}|\\d{5}\\W\\d{4}', palavra)) # Encontrar todos os números com ou sem DDD's"
   ]
  },
  {
   "cell_type": "code",
   "execution_count": 29,
   "id": "954987a4",
   "metadata": {},
   "outputs": [],
   "source": [
    "palavra = r\"\"\"\"\"contato@dellead.com, franciscojose@yahoo.com.br, ana.julia@universidade.edu, francisca-321-aline@meu-trabalho.net, Le@d Dell Technologies\"\"\""
   ]
  },
  {
   "cell_type": "code",
   "execution_count": 31,
   "id": "c0e29961",
   "metadata": {},
   "outputs": [
    {
     "name": "stdout",
     "output_type": "stream",
     "text": [
      "['contato@dellead.com', 'franciscojose@yahoo.com.br', 'ana.julia@universidade.edu']\n"
     ]
    }
   ],
   "source": [
    "print(re.findall(r'[a-zA-Z0-9.-_]+@[a-zA-Z0-9.-_]+\\.[a-zA-Z0-9.-_]+', palavra))"
   ]
  }
 ],
 "metadata": {
  "kernelspec": {
   "display_name": "Python 3",
   "language": "python",
   "name": "python3"
  },
  "language_info": {
   "codemirror_mode": {
    "name": "ipython",
    "version": 3
   },
   "file_extension": ".py",
   "mimetype": "text/x-python",
   "name": "python",
   "nbconvert_exporter": "python",
   "pygments_lexer": "ipython3",
   "version": "3.8.8"
  }
 },
 "nbformat": 4,
 "nbformat_minor": 5
}
