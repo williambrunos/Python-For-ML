{
 "cells": [
  {
   "cell_type": "markdown",
   "id": "b8b31280",
   "metadata": {},
   "source": [
    "# Dealing with Time in Python\n",
    "\n",
    "To do this, we have to import datetime class from datetime module:"
   ]
  },
  {
   "cell_type": "code",
   "execution_count": 2,
   "id": "7cc7aa55",
   "metadata": {},
   "outputs": [],
   "source": [
    "from datetime import datetime as dt"
   ]
  },
  {
   "cell_type": "code",
   "execution_count": 4,
   "id": "1bfa943b",
   "metadata": {},
   "outputs": [
    {
     "name": "stdout",
     "output_type": "stream",
     "text": [
      "2021-10-25 21:17:41.943763\n"
     ]
    }
   ],
   "source": [
    "today = dt.today()\n",
    "print(today)"
   ]
  },
  {
   "cell_type": "markdown",
   "id": "3503f933",
   "metadata": {},
   "source": [
    "'today' object is a datime object with date and time written on the same ISO 8601 format as in date module: **year-month-day-hour-minute-second'**, in a significative order."
   ]
  }
 ],
 "metadata": {
  "kernelspec": {
   "display_name": "Python 3",
   "language": "python",
   "name": "python3"
  },
  "language_info": {
   "codemirror_mode": {
    "name": "ipython",
    "version": 3
   },
   "file_extension": ".py",
   "mimetype": "text/x-python",
   "name": "python",
   "nbconvert_exporter": "python",
   "pygments_lexer": "ipython3",
   "version": "3.8.8"
  }
 },
 "nbformat": 4,
 "nbformat_minor": 5
}
