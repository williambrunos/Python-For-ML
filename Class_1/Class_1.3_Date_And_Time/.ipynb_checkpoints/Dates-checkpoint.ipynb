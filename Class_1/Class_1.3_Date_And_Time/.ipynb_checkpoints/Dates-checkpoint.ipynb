{
 "cells": [
  {
   "cell_type": "markdown",
   "id": "723471b9",
   "metadata": {},
   "source": [
    "# Dealing with Dates with Python\n",
    "\n",
    "For this, we are going to use the **datetime** python module, which allow us to build date and datetime variables and handle with it as we handle with normal variables, using arithmatic operations, passing and return it from functions etc.\n",
    "\n",
    "## Date and Datetime\n",
    "\n",
    "### Date\n",
    "\n",
    "Let's import the date type from the datetime module."
   ]
  },
  {
   "cell_type": "code",
   "execution_count": 17,
   "id": "3fe07fdd",
   "metadata": {},
   "outputs": [
    {
     "name": "stdout",
     "output_type": "stream",
     "text": [
      "2021-10-25\n"
     ]
    }
   ],
   "source": [
    "from datetime import date, timedelta\n",
    "\n",
    "d = date.today()\n",
    "print(d)"
   ]
  },
  {
   "cell_type": "markdown",
   "id": "ea476e92",
   "metadata": {},
   "source": [
    "all the dates coming from date type are all writen as **year-month-day**. If you want to change this representation, we are going to show this later. \n",
    "\n",
    "Now, how can we create our own date type using arguments instead of the today's date? Using the date constructor as the docstring:"
   ]
  },
  {
   "cell_type": "code",
   "execution_count": 5,
   "id": "592adb14",
   "metadata": {},
   "outputs": [
    {
     "name": "stdout",
     "output_type": "stream",
     "text": [
      "date(year, month, day) --> date object\n"
     ]
    }
   ],
   "source": [
    "print(date.__doc__)"
   ]
  },
  {
   "cell_type": "code",
   "execution_count": 2,
   "id": "895ee77c",
   "metadata": {},
   "outputs": [
    {
     "name": "stdout",
     "output_type": "stream",
     "text": [
      "2020-12-08\n"
     ]
    }
   ],
   "source": [
    "d = date(2020, 12, 8)\n",
    "print(d)"
   ]
  },
  {
   "cell_type": "code",
   "execution_count": 7,
   "id": "a679fe3c",
   "metadata": {},
   "outputs": [
    {
     "name": "stdout",
     "output_type": "stream",
     "text": [
      "Date: 2020/12/8\n"
     ]
    }
   ],
   "source": [
    "print(f'Date: {d.year}/{d.month}/{d.day}')"
   ]
  },
  {
   "cell_type": "markdown",
   "id": "42040e1f",
   "metadata": {},
   "source": [
    "This way of writing dates: **year-month-day-hour-minute-second** is called ISO 8601, and it's a way of showing dates in a significative order."
   ]
  },
  {
   "cell_type": "markdown",
   "id": "08e0f7e2",
   "metadata": {},
   "source": [
    "### Dates Comparisons\n",
    "\n",
    "We can use **==, !=, <, >** and so on to compare two dates defined as date or datetime objects. This comparison is made by checking the dates on that significative order: **year_1 == year_2? month_1 == month_2?** and so on."
   ]
  },
  {
   "cell_type": "code",
   "execution_count": 8,
   "id": "127ef881",
   "metadata": {},
   "outputs": [
    {
     "name": "stdout",
     "output_type": "stream",
     "text": [
      "2021-01-01 preceedes 2021-12-31\n"
     ]
    }
   ],
   "source": [
    "initial_date = date(2021, 1, 1)\n",
    "final_date = date(2021, 12, 31)\n",
    "\n",
    "if initial_date < final_date:\n",
    "    print(f'{initial_date} precedes {final_date}')\n",
    "else:\n",
    "    print(f'{initial_date} succedes {final_date}')"
   ]
  },
  {
   "cell_type": "markdown",
   "id": "0c00cc57",
   "metadata": {},
   "source": [
    "### Difference between Dates\n",
    "\n",
    "If we wanted to know the difference on days between two dates, we can do it as:"
   ]
  },
  {
   "cell_type": "code",
   "execution_count": 15,
   "id": "7656ee7b",
   "metadata": {},
   "outputs": [
    {
     "name": "stdout",
     "output_type": "stream",
     "text": [
      "Days between 2021-01-01 and 2021-12-31: 365\n"
     ]
    }
   ],
   "source": [
    "print(f'Days between {initial_date} and {final_date}: {(final_date - initial_date).days + 1}')"
   ]
  },
  {
   "cell_type": "code",
   "execution_count": 11,
   "id": "7c323865",
   "metadata": {},
   "outputs": [
    {
     "name": "stdout",
     "output_type": "stream",
     "text": [
      "<class 'datetime.timedelta'>\n"
     ]
    }
   ],
   "source": [
    "print(type(final_date - initial_date))"
   ]
  },
  {
   "cell_type": "markdown",
   "id": "a0811e2f",
   "metadata": {},
   "source": [
    "as you can see, we obtain a timedelta object."
   ]
  },
  {
   "cell_type": "markdown",
   "id": "15294e74",
   "metadata": {},
   "source": [
    "### Summing Dates\n",
    "\n",
    "To sum some date with a certain number of days to analyse the vacination data, for instance, we need to sum the date object with a timedelta object:"
   ]
  },
  {
   "cell_type": "code",
   "execution_count": 22,
   "id": "a9056210",
   "metadata": {},
   "outputs": [
    {
     "name": "stdout",
     "output_type": "stream",
     "text": [
      "2021-11-22\n"
     ]
    }
   ],
   "source": [
    "today = date.today()\n",
    "difference = timedelta(days=28)\n",
    "today_in_28_days_date = today + difference\n",
    "print(today_in_28_days_date)"
   ]
  },
  {
   "cell_type": "markdown",
   "id": "b19eed49",
   "metadata": {},
   "source": [
    "### Sorting Dates\n",
    "\n",
    "Let's suppose that you have a list of date objects and you want to sort than from the year, month and days, each one in a different application:"
   ]
  },
  {
   "cell_type": "code",
   "execution_count": 41,
   "id": "2050e1a8",
   "metadata": {},
   "outputs": [
    {
     "ename": "TypeError",
     "evalue": "'datetime.date' object is not callable",
     "output_type": "error",
     "traceback": [
      "\u001b[1;31m---------------------------------------------------------------------------\u001b[0m",
      "\u001b[1;31mTypeError\u001b[0m                                 Traceback (most recent call last)",
      "\u001b[1;32m<ipython-input-41-a7506fa7b35d>\u001b[0m in \u001b[0;36m<module>\u001b[1;34m\u001b[0m\n\u001b[1;32m----> 1\u001b[1;33m datas = [date(2016, 7, 6), date(2012, 10, 24), date(2020, 3, 19), date(2021, 8, 24), date(2021, 8, 12), date(2013, 5, 29), \n\u001b[0m\u001b[0;32m      2\u001b[0m          date(2018, 9, 2), date(2019, 1, 19), date(2012, 7, 2), date(2018, 9, 5)]\n",
      "\u001b[1;31mTypeError\u001b[0m: 'datetime.date' object is not callable"
     ]
    }
   ],
   "source": [
    "datas = [date(2016, 7, 6), date(2012, 10, 24), date(2020, 3, 19), date(2021, 8, 24), date(2021, 8, 12), date(2013, 5, 29), \n",
    "         date(2018, 9, 2), date(2019, 1, 19), date(2012, 7, 2), date(2018, 9, 5)]"
   ]
  },
  {
   "cell_type": "code",
   "execution_count": 38,
   "id": "929abd47",
   "metadata": {},
   "outputs": [
    {
     "name": "stdout",
     "output_type": "stream",
     "text": [
      "Dates sorted by year: \n",
      "\n",
      "2012-10-24\n",
      "2012-07-02\n",
      "2013-05-29\n",
      "2016-07-06\n",
      "2018-09-02\n",
      "2018-09-05\n",
      "2019-01-19\n",
      "2020-03-19\n",
      "2021-08-24\n",
      "2021-08-12\n"
     ]
    }
   ],
   "source": [
    "print('Dates sorted by year: \\n')\n",
    "for date_object in sorted(datas, key = lambda d : d.year):\n",
    "    print(date_object)"
   ]
  },
  {
   "cell_type": "code",
   "execution_count": 40,
   "id": "183a82c6",
   "metadata": {},
   "outputs": [
    {
     "name": "stdout",
     "output_type": "stream",
     "text": [
      "Days sorted by month: \n",
      "\n",
      "2019-01-19\n",
      "2020-03-19\n",
      "2013-05-29\n",
      "2016-07-06\n",
      "2012-07-02\n",
      "2021-08-24\n",
      "2021-08-12\n",
      "2018-09-02\n",
      "2018-09-05\n",
      "2012-10-24\n"
     ]
    }
   ],
   "source": [
    "print('dates sorted by month: \\n')\n",
    "\n",
    "for date_object in sorted(datas, key = lambda d : d.month):\n",
    "    print(date_object)"
   ]
  },
  {
   "cell_type": "code",
   "execution_count": 43,
   "id": "2204ec3d",
   "metadata": {},
   "outputs": [
    {
     "name": "stdout",
     "output_type": "stream",
     "text": [
      "Dates sorted by day: \n",
      "\n",
      "2018-09-02\n",
      "2012-07-02\n",
      "2018-09-05\n",
      "2016-07-06\n",
      "2021-08-12\n",
      "2020-03-19\n",
      "2019-01-19\n",
      "2012-10-24\n",
      "2021-08-24\n",
      "2013-05-29\n"
     ]
    }
   ],
   "source": [
    "print('Dates sorted by day: \\n')\n",
    "\n",
    "for date_object in sorted(datas, key = lambda d : d.day):\n",
    "    print(date_object)"
   ]
  },
  {
   "cell_type": "code",
   "execution_count": 44,
   "id": "e844c563",
   "metadata": {},
   "outputs": [
    {
     "name": "stdout",
     "output_type": "stream",
     "text": [
      "Dates sorted by year, month and day: \n",
      "\n",
      "2012-07-02\n",
      "2012-10-24\n",
      "2013-05-29\n",
      "2016-07-06\n",
      "2018-09-02\n",
      "2018-09-05\n",
      "2019-01-19\n",
      "2020-03-19\n",
      "2021-08-12\n",
      "2021-08-24\n"
     ]
    }
   ],
   "source": [
    "print('Dates sorted by year, month and day: \\n')\n",
    "\n",
    "for date_object in sorted(datas, key = lambda d : (d.year, d.month, d.day)):\n",
    "    print(date_object)"
   ]
  }
 ],
 "metadata": {
  "kernelspec": {
   "display_name": "Python 3",
   "language": "python",
   "name": "python3"
  },
  "language_info": {
   "codemirror_mode": {
    "name": "ipython",
    "version": 3
   },
   "file_extension": ".py",
   "mimetype": "text/x-python",
   "name": "python",
   "nbconvert_exporter": "python",
   "pygments_lexer": "ipython3",
   "version": "3.8.8"
  }
 },
 "nbformat": 4,
 "nbformat_minor": 5
}
