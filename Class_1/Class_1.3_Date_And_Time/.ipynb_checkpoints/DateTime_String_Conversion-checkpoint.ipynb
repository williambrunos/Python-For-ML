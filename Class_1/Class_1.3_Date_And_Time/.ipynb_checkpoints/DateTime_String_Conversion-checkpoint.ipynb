{
 "cells": [
  {
   "cell_type": "markdown",
   "id": "f37a39c1",
   "metadata": {},
   "source": [
    "# Date and DatTime String Conversions\n",
    "\n",
    "For doing this, we are going to use the ``strftime`` and ``strptime`` functions, allowed in date and datetime modules."
   ]
  },
  {
   "cell_type": "code",
   "execution_count": 1,
   "id": "f043d30c",
   "metadata": {},
   "outputs": [],
   "source": [
    "from datetime import date, timedelta, datetime"
   ]
  },
  {
   "cell_type": "markdown",
   "id": "f1b934b8",
   "metadata": {},
   "source": [
    "## strftime\n",
    "\n",
    "This function converts a date or datetime object into a string based on ``format`` argument. It accepts a lot of encoding strings, like %d, %m, %Y or %y etc. The string passed as argument doesn't need to have only encoding chars, it can have words or phrases too!"
   ]
  },
  {
   "cell_type": "code",
   "execution_count": 15,
   "id": "9d972e00",
   "metadata": {},
   "outputs": [
    {
     "name": "stdout",
     "output_type": "stream",
     "text": [
      "25/10/2021\n",
      "25/10/21 ; 21:39:12\n"
     ]
    }
   ],
   "source": [
    "today_date = date.today()\n",
    "today_date_time = datetime.today()\n",
    "\n",
    "print(today_date.strftime('%d/%m/%Y'))\n",
    "print(today_date_time.strftime('%d/%m/%y ; %H:%M:%S'))"
   ]
  },
  {
   "cell_type": "markdown",
   "id": "e20ebd4b",
   "metadata": {},
   "source": [
    "## strptime\n",
    "\n",
    "This function converts a string into a datetime object. It compares the string given as argument on the strptime function and compares it with the encoding string."
   ]
  },
  {
   "cell_type": "code",
   "execution_count": 18,
   "id": "a269da6a",
   "metadata": {},
   "outputs": [
    {
     "data": {
      "text/plain": [
       "'string, format -> new datetime parsed from a string (like time.strptime()).'"
      ]
     },
     "execution_count": 18,
     "metadata": {},
     "output_type": "execute_result"
    }
   ],
   "source": [
    "datetime.strptime.__doc__"
   ]
  },
  {
   "cell_type": "code",
   "execution_count": 23,
   "id": "dd5a3f0c",
   "metadata": {},
   "outputs": [
    {
     "name": "stdout",
     "output_type": "stream",
     "text": [
      "2021-10-25 00:00:00\n"
     ]
    }
   ],
   "source": [
    "today = '2021/10/25'\n",
    "today_date = datetime.strptime(today, '%Y/%m/%d')\n",
    "print(today_date)"
   ]
  },
  {
   "cell_type": "markdown",
   "id": "1948cc3a",
   "metadata": {},
   "source": [
    "The encoding string passed as argument to the strptime function must match with the pattern of the written string. For instance, we can't do ``strptime('2021/10/25', '%Y of %m, %d')``"
   ]
  }
 ],
 "metadata": {
  "kernelspec": {
   "display_name": "Python 3",
   "language": "python",
   "name": "python3"
  },
  "language_info": {
   "codemirror_mode": {
    "name": "ipython",
    "version": 3
   },
   "file_extension": ".py",
   "mimetype": "text/x-python",
   "name": "python",
   "nbconvert_exporter": "python",
   "pygments_lexer": "ipython3",
   "version": "3.8.8"
  }
 },
 "nbformat": 4,
 "nbformat_minor": 5
}
