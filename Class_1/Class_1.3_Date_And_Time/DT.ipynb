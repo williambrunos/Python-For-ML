{
 "cells": [
  {
   "cell_type": "markdown",
   "id": "17db188c",
   "metadata": {},
   "source": [
    "# Dealing with Date and Time with Python\n",
    "\n",
    "For this, we are going to use the **datetime** python module, which allow us to build date and datetime variables and handle with it as we handle with normal variables, using arithmatic operations, passing and return it from functions etc.\n",
    "\n",
    "## Date and Datetime\n",
    "\n",
    "### Date\n",
    "\n",
    "Let's import the date type from the datetime module."
   ]
  },
  {
   "cell_type": "code",
   "execution_count": 1,
   "id": "db81db9e",
   "metadata": {},
   "outputs": [
    {
     "name": "stdout",
     "output_type": "stream",
     "text": [
      "2021-10-25\n"
     ]
    }
   ],
   "source": [
    "from datetime import date\n",
    "\n",
    "d = date.today()\n",
    "print(d)"
   ]
  },
  {
   "cell_type": "markdown",
   "id": "e44a078b",
   "metadata": {},
   "source": [
    "all the dates coming from date type are all writen as **year-month-day**. If you want to change this representation, we are going to show this later. \n",
    "\n",
    "Now, how can we create our own date type using arguments instead of the today's date? Using the date constructor as the docstring:"
   ]
  },
  {
   "cell_type": "code",
   "execution_count": 5,
   "id": "d10f86c5",
   "metadata": {},
   "outputs": [
    {
     "name": "stdout",
     "output_type": "stream",
     "text": [
      "date(year, month, day) --> date object\n"
     ]
    }
   ],
   "source": [
    "print(date.__doc__)"
   ]
  },
  {
   "cell_type": "code",
   "execution_count": 2,
   "id": "21a3209d",
   "metadata": {},
   "outputs": [
    {
     "name": "stdout",
     "output_type": "stream",
     "text": [
      "2020-12-08\n"
     ]
    }
   ],
   "source": [
    "d = date(2020, 12, 8)\n",
    "print(d)"
   ]
  },
  {
   "cell_type": "code",
   "execution_count": 7,
   "id": "27eefe96",
   "metadata": {},
   "outputs": [
    {
     "name": "stdout",
     "output_type": "stream",
     "text": [
      "Date: 2020/12/8\n"
     ]
    }
   ],
   "source": [
    "print(f'Date: {d.year}/{d.month}/{d.day}')"
   ]
  }
 ],
 "metadata": {
  "kernelspec": {
   "display_name": "Python 3",
   "language": "python",
   "name": "python3"
  },
  "language_info": {
   "codemirror_mode": {
    "name": "ipython",
    "version": 3
   },
   "file_extension": ".py",
   "mimetype": "text/x-python",
   "name": "python",
   "nbconvert_exporter": "python",
   "pygments_lexer": "ipython3",
   "version": "3.8.8"
  }
 },
 "nbformat": 4,
 "nbformat_minor": 5
}
