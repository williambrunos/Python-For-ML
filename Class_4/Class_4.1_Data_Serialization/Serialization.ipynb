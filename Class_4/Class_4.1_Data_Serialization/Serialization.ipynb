{
 "cells": [
  {
   "cell_type": "code",
   "execution_count": 1,
   "id": "ed7a00f9",
   "metadata": {},
   "outputs": [],
   "source": [
    "import csv"
   ]
  },
  {
   "cell_type": "markdown",
   "id": "1987f0f1",
   "metadata": {},
   "source": [
    "## CSV\n",
    "\n",
    "CSV means 'comma separeted values', which can be read by many applications. To analyse data stored on csv's, we use the **csv python librarie**.\n",
    "\n",
    "On this kind of file, data are stored separeted by commas. Each line of data stands for one line of data, and each data separated by commas stands for one column.\n",
    "\n",
    "The comma is called **delimiter character**, and can be others, like ';'."
   ]
  },
  {
   "cell_type": "markdown",
   "id": "f5c9d478",
   "metadata": {},
   "source": [
    "## Reading CSV files\n",
    "\n",
    "For reading csv files with the **csv librarie**, we use the **reader** function, which returns an iterator. After that, we iterate for each line (string) of the iterator, showing the data on the file."
   ]
  },
  {
   "cell_type": "code",
   "execution_count": 3,
   "id": "f800b372",
   "metadata": {},
   "outputs": [
    {
     "name": "stdout",
     "output_type": "stream",
     "text": [
      "<_csv.reader object at 0x0000022B6F7E2EE0>\n",
      "['nome', 'departamento', 'mês de aniversário']\n",
      "['Pedro Lima', 'RH', 'Novembro']\n",
      "['Gabriela Silva', 'TI', 'Março']\n"
     ]
    }
   ],
   "source": [
    "with open('./BirthDays.txt', encoding='UTF-8') as csv_file:\n",
    "    reader_csv = csv.reader(csv_file, delimiter=',')\n",
    "    print(reader_csv)\n",
    "    for line in reader_csv:\n",
    "        print(line)"
   ]
  },
  {
   "cell_type": "markdown",
   "id": "0b0288b5",
   "metadata": {},
   "source": [
    "Now, imagine a huge csv file with a lot of columns. Imagine having to remember the name of all columns and the sort of the data. For having a more readble result, we can use the **DictReader** instead of just reader. For this function, it will take the first line of the archive as the keys of the dict."
   ]
  },
  {
   "cell_type": "code",
   "execution_count": 4,
   "id": "2426e8ed",
   "metadata": {},
   "outputs": [
    {
     "name": "stdout",
     "output_type": "stream",
     "text": [
      "<csv.DictReader object at 0x0000022B6F7E4400>\n",
      "{'nome': 'Pedro Lima', 'departamento': 'RH', 'mês de aniversário': 'Novembro'}\n",
      "{'nome': 'Gabriela Silva', 'departamento': 'TI', 'mês de aniversário': 'Março'}\n"
     ]
    }
   ],
   "source": [
    "with open('./BirthDays.txt', encoding='UTF-8') as csv_file:\n",
    "    reader_csv = csv.DictReader(csv_file, delimiter=',')\n",
    "    print(reader_csv)\n",
    "    for line in reader_csv:\n",
    "        print(line)"
   ]
  },
  {
   "cell_type": "markdown",
   "id": "428861c2",
   "metadata": {},
   "source": [
    "## Creating CSV's\n",
    "\n",
    "We can add content to CSV's using the **write_row** function of the **writer** object. "
   ]
  },
  {
   "cell_type": "code",
   "execution_count": 15,
   "id": "fdf3fd75",
   "metadata": {},
   "outputs": [],
   "source": [
    "with open('./NewBirthdays.txt', mode='w', encoding='UTF-8', newline='') as csv_file:\n",
    "    writer_csv = csv.writer(csv_file, delimiter=';')\n",
    "    \n",
    "    writer_csv.writerow(['Nome', 'Departamento', 'mês de aniversário'])\n",
    "    writer_csv.writerow(['Gabriel Silva', 'RH', 'Dezembro'])\n",
    "    writer_csv.writerow(['Pedro Lima', 'TI', 'Novembro'])"
   ]
  },
  {
   "cell_type": "code",
   "execution_count": 16,
   "id": "d5f14fee",
   "metadata": {},
   "outputs": [
    {
     "name": "stdout",
     "output_type": "stream",
     "text": [
      "<csv.DictReader object at 0x0000022B6F7C03A0>\n",
      "{'Nome': 'Gabriel Silva', 'Departamento': 'RH', 'mês de aniversário': 'Dezembro'}\n",
      "{'Nome': 'Pedro Lima', 'Departamento': 'TI', 'mês de aniversário': 'Novembro'}\n"
     ]
    }
   ],
   "source": [
    "with open('./NewBirthDays.txt', encoding='UTF-8') as csv_file:\n",
    "    reader_csv = csv.DictReader(csv_file, delimiter=';')\n",
    "    \n",
    "    print(reader_csv)\n",
    "    for line in reader_csv:\n",
    "        print(line)"
   ]
  },
  {
   "cell_type": "markdown",
   "id": "67f44f86",
   "metadata": {},
   "source": [
    "We can also write the rows of the csv as Dictionaries, like we were doing when reading it:"
   ]
  },
  {
   "cell_type": "code",
   "execution_count": 17,
   "id": "78b39563",
   "metadata": {},
   "outputs": [],
   "source": [
    "with open('./NewBirthDays.txt', encoding='UTF-8', mode='w') as csv_file:\n",
    "    field_names = ['Nome', 'Departamento', 'Mês de Aniversário']\n",
    "    writer_csv = csv.DictWriter(csv_file, fieldnames = field_names)\n",
    "    \n",
    "    writer_csv.writeheader()\n",
    "    writer_csv.writerow({'Nome': 'William', 'Departamento': 'TI', 'Mês de Aniversário': 'Outubro'})\n",
    "    writer_csv.writerow({'Nome': 'Bruno', 'Departamento': 'RH', 'Mês de Aniversário': 'Dezembro'})"
   ]
  }
 ],
 "metadata": {
  "kernelspec": {
   "display_name": "Python 3",
   "language": "python",
   "name": "python3"
  },
  "language_info": {
   "codemirror_mode": {
    "name": "ipython",
    "version": 3
   },
   "file_extension": ".py",
   "mimetype": "text/x-python",
   "name": "python",
   "nbconvert_exporter": "python",
   "pygments_lexer": "ipython3",
   "version": "3.8.8"
  }
 },
 "nbformat": 4,
 "nbformat_minor": 5
}
