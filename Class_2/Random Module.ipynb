{
 "cells": [
  {
   "cell_type": "code",
   "execution_count": 1,
   "id": "947837e7",
   "metadata": {},
   "outputs": [],
   "source": [
    "import random"
   ]
  },
  {
   "cell_type": "code",
   "execution_count": 2,
   "id": "4aa1317b",
   "metadata": {},
   "outputs": [
    {
     "data": {
      "text/plain": [
       "0.9394839383244296"
      ]
     },
     "execution_count": 2,
     "metadata": {},
     "output_type": "execute_result"
    }
   ],
   "source": [
    "random.random()"
   ]
  },
  {
   "cell_type": "code",
   "execution_count": 3,
   "id": "15b1e019",
   "metadata": {},
   "outputs": [],
   "source": [
    "def random_number_between_min_and_max(minimun, maximun):\n",
    "    # return a <= N < b\n",
    "    diff = maximun - minimun\n",
    "    return diff * random.random() + minimun"
   ]
  },
  {
   "cell_type": "code",
   "execution_count": 4,
   "id": "973d7248",
   "metadata": {},
   "outputs": [
    {
     "data": {
      "text/plain": [
       "9.197305331944928"
      ]
     },
     "execution_count": 4,
     "metadata": {},
     "output_type": "execute_result"
    }
   ],
   "source": [
    "random_number_between_min_and_max(4, 10)"
   ]
  },
  {
   "cell_type": "code",
   "execution_count": 5,
   "id": "275a2310",
   "metadata": {},
   "outputs": [
    {
     "name": "stdout",
     "output_type": "stream",
     "text": [
      "0.5714025946899135\n",
      "0.4288890546751146\n"
     ]
    }
   ],
   "source": [
    "random.seed(10)\n",
    "\n",
    "print(random.random())\n",
    "print(random.random())"
   ]
  },
  {
   "cell_type": "code",
   "execution_count": 6,
   "id": "d5846f2e",
   "metadata": {},
   "outputs": [
    {
     "name": "stdout",
     "output_type": "stream",
     "text": [
      "0.5714025946899135\n",
      "0.4288890546751146\n"
     ]
    }
   ],
   "source": [
    "random.seed(10)\n",
    "\n",
    "print(random.random())\n",
    "print(random.random())"
   ]
  },
  {
   "cell_type": "code",
   "execution_count": 7,
   "id": "a6a1b524",
   "metadata": {},
   "outputs": [
    {
     "name": "stdout",
     "output_type": "stream",
     "text": [
      "0.9664535356921388\n",
      "0.4407325991753527\n"
     ]
    }
   ],
   "source": [
    "random.seed(1234)\n",
    "\n",
    "print(random.random())\n",
    "print(random.random())"
   ]
  },
  {
   "cell_type": "code",
   "execution_count": 8,
   "id": "59caa232",
   "metadata": {},
   "outputs": [
    {
     "data": {
      "text/plain": [
       "10.074914700585872"
      ]
     },
     "execution_count": 8,
     "metadata": {},
     "output_type": "execute_result"
    }
   ],
   "source": [
    "random.uniform(10, 20) # return a <= N <= b"
   ]
  },
  {
   "cell_type": "code",
   "execution_count": 9,
   "id": "d8f3f50d",
   "metadata": {},
   "outputs": [
    {
     "data": {
      "text/plain": [
       "0.4295006099655409"
      ]
     },
     "execution_count": 9,
     "metadata": {},
     "output_type": "execute_result"
    }
   ],
   "source": [
    "# random.normalvariate(media, variance) -> return a random value from a variable with normal probabilitic distribution\n",
    "# with media and variance\n",
    "random.normalvariate(0, 1)"
   ]
  },
  {
   "cell_type": "code",
   "execution_count": 10,
   "id": "d8a75785",
   "metadata": {},
   "outputs": [
    {
     "name": "stdout",
     "output_type": "stream",
     "text": [
      "1\n",
      "1\n"
     ]
    }
   ],
   "source": [
    "print(random.randint(1, 6))\n",
    "print(random.randint(1, 6))"
   ]
  },
  {
   "cell_type": "code",
   "execution_count": 11,
   "id": "b4a07451",
   "metadata": {},
   "outputs": [
    {
     "name": "stdout",
     "output_type": "stream",
     "text": [
      "3\n"
     ]
    }
   ],
   "source": [
    "dados = [1, 2, 3, 4, 5, 6]\n",
    "\n",
    "print(random.choice(dados))"
   ]
  },
  {
   "cell_type": "code",
   "execution_count": 12,
   "id": "0dd3582c",
   "metadata": {},
   "outputs": [
    {
     "name": "stdout",
     "output_type": "stream",
     "text": [
      "[4]\n"
     ]
    }
   ],
   "source": [
    "pesos = [1, 1, 2, 3, 3, 10]\n",
    "\n",
    "print(random.choices(dados, pesos))"
   ]
  },
  {
   "cell_type": "code",
   "execution_count": 13,
   "id": "ad6b8103",
   "metadata": {},
   "outputs": [
    {
     "name": "stdout",
     "output_type": "stream",
     "text": [
      "[1, 6, 4, 6, 6, 3, 3, 3, 1, 5]\n"
     ]
    }
   ],
   "source": [
    "print(random.choices(dados, pesos, k=10))"
   ]
  },
  {
   "cell_type": "code",
   "execution_count": 14,
   "id": "2ea5536d",
   "metadata": {},
   "outputs": [
    {
     "name": "stdout",
     "output_type": "stream",
     "text": [
      "['3 de Copas', 'Rei de Copas', '10 de Copas', '7 de Copas', 'Ás de Copas', '6 de Copas', '5 de Copas', 'Dama de Copas', '8 de Copas', '9 de Copas', 'Valete de Copas', '2 de Copas', '4 de Copas']\n"
     ]
    }
   ],
   "source": [
    "baralho = ['Ás de Copas','2 de Copas','3 de Copas','4 de Copas','5 de Copas','6 de Copas','7 de Copas',\n",
    "'8 de Copas','9 de Copas','10 de Copas','Valete de Copas','Dama de Copas','Rei de Copas']\n",
    "\n",
    "random.shuffle(baralho)\n",
    "\n",
    "print(baralho)"
   ]
  },
  {
   "cell_type": "code",
   "execution_count": 15,
   "id": "dacf91eb",
   "metadata": {},
   "outputs": [],
   "source": [
    "# sample -> without reposition\n",
    "# choices -> with reposition"
   ]
  },
  {
   "cell_type": "code",
   "execution_count": 16,
   "id": "35d9305a",
   "metadata": {},
   "outputs": [],
   "source": [
    "nomes = ['William', 'Marcos', 'Daniel', 'Gabriel', 'Klayver', 'Jônatas']"
   ]
  },
  {
   "cell_type": "code",
   "execution_count": 24,
   "id": "57f00350",
   "metadata": {},
   "outputs": [],
   "source": [
    "random.sample?"
   ]
  },
  {
   "cell_type": "code",
   "execution_count": 25,
   "id": "280c30cc",
   "metadata": {},
   "outputs": [
    {
     "data": {
      "text/plain": [
       "['Daniel', 'Marcos', 'Klayver', 'Gabriel']"
      ]
     },
     "execution_count": 25,
     "metadata": {},
     "output_type": "execute_result"
    }
   ],
   "source": [
    "random.sample(nomes, 4)"
   ]
  },
  {
   "cell_type": "code",
   "execution_count": 26,
   "id": "fcc776e6",
   "metadata": {},
   "outputs": [],
   "source": [
    "def get_probability_of_two_same_numbers_on_the_dice(number_of_plays=1000):\n",
    "    matches = 0\n",
    "    for i in range(number_of_plays):\n",
    "        dado_1 = random.randint(1, 6)\n",
    "        dado_2 = random.randint(1, 6)\n",
    "        \n",
    "        if dado_1 == dado_2:\n",
    "            matches += 1\n",
    "    \n",
    "    return matches / number_of_plays"
   ]
  },
  {
   "cell_type": "code",
   "execution_count": 30,
   "id": "6ca2c555",
   "metadata": {},
   "outputs": [
    {
     "data": {
      "text/plain": [
       "0.165"
      ]
     },
     "execution_count": 30,
     "metadata": {},
     "output_type": "execute_result"
    }
   ],
   "source": [
    "get_probability_of_two_same_numbers_on_the_dice(1000)"
   ]
  }
 ],
 "metadata": {
  "kernelspec": {
   "display_name": "Python 3",
   "language": "python",
   "name": "python3"
  },
  "language_info": {
   "codemirror_mode": {
    "name": "ipython",
    "version": 3
   },
   "file_extension": ".py",
   "mimetype": "text/x-python",
   "name": "python",
   "nbconvert_exporter": "python",
   "pygments_lexer": "ipython3",
   "version": "3.8.8"
  }
 },
 "nbformat": 4,
 "nbformat_minor": 5
}
