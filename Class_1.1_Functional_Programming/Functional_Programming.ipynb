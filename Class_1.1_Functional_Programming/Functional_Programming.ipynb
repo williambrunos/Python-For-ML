{
 "cells": [
  {
   "cell_type": "markdown",
   "id": "5da057e8",
   "metadata": {},
   "source": [
    "# Functional Programming\n",
    "\n",
    "## Abstract\n",
    "\n",
    "Functional Programming is a programming paradigm which process, data transformation and manipulation are made by functions. These functions can be built-in from python or built by the programmer. In this paradigm, we will work with imutable data, in contrast with the imperative programming, we will worry about expressions, such as in math. For instance, consider the python functions: map, any, all, filter, these functions can do much work and are built-in on python. It's much better know how to use these kind of functions on the programming language instead of build one by your one, saving effort and using a much faster function.\n",
    "\n",
    "## What are Programming Paradigms?\n",
    "\n",
    "We know that the programming languages are classified in: Object Oriented Programming(OOP), Procedural Programming, Functional Programming and etc. But, what exactly are programming paradigms? \n",
    "\n",
    "For instance, on procedural programming you give explicit comands for the computer and group it all on a function. On OOP programming, you group all these comands on classes and methods. But, in all of these examples, the data you give to the functions are modified, right?\n",
    "\n",
    "That's the point! In functional programming the data given as argument are not modified, the only data that are modified on this paradigm are the output data. In sum, you build or use functions which are focused in not changing the input data, b"
   ]
  }
 ],
 "metadata": {
  "kernelspec": {
   "display_name": "Python 3",
   "language": "python",
   "name": "python3"
  },
  "language_info": {
   "codemirror_mode": {
    "name": "ipython",
    "version": 3
   },
   "file_extension": ".py",
   "mimetype": "text/x-python",
   "name": "python",
   "nbconvert_exporter": "python",
   "pygments_lexer": "ipython3",
   "version": "3.8.8"
  }
 },
 "nbformat": 4,
 "nbformat_minor": 5
}
