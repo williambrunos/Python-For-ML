{
 "cells": [
  {
   "cell_type": "markdown",
   "id": "a8f67646",
   "metadata": {},
   "source": [
    "# Functional Programming\n",
    "\n",
    "## Abstract\n",
    "\n",
    "Functional Programming is a programming paradigm which process, data transformation and manipulation are made by functions. These functions can be built-in from python or built by the programmer. In this paradigm, we will work with imutable data, in contrast with the imperative programming, we will worry about expressions, such as in math. For instance, consider the python functions: map, any, all, filter, these functions can do much work and are built-in on python. It's much better know how to use these kind of functions on the programming language instead of build one by your one, saving effort and using a much faster function.\n",
    "\n",
    "**OBS**: All the examples will be treated in python.\n",
    "\n",
    "## What are Programming Paradigms?\n",
    "\n",
    "We know that the programming languages are classified in: Object Oriented Programming(OOP), Procedural Programming, Functional Programming and etc. But, what exactly are programming paradigms? \n",
    "\n",
    "For instance, on procedural programming you give explicit comands for the computer and group it all on a function. On OOP programming, you group all these comands on classes and methods. But, in all of these examples, the data you give to the functions are modified, right?\n",
    "\n",
    "That's the point! In functional programming the data given as argument are not modified, the only data that are modified on this paradigm are the output data. In sum, you build or use functions which are focused in not changing the input data, but using it to build a output, which you can modify it before returning the data. This is called, **immutability**.\n",
    "\n",
    "\n",
    "## Functional Proggraming Paradigm\n",
    "\n",
    "Since you know what is immutability, we can go deep and explore the pure function concept. Functions that produces the same output for the same inputs and use only the received parameters for the data handling are called **pure functions**.\n",
    "\n",
    "**Eg**:"
   ]
  },
  {
   "cell_type": "code",
   "execution_count": 2,
   "id": "4da33b6d",
   "metadata": {},
   "outputs": [
    {
     "data": {
      "text/plain": [
       "[6, 7, 8, 9, 10]"
      ]
     },
     "execution_count": 2,
     "metadata": {},
     "output_type": "execute_result"
    }
   ],
   "source": [
    "def filter_list_by_threshold(lst, threshold):\n",
    "    return [element for element in lst if element > threshold]\n",
    "\n",
    "filter_list_by_threshold([1, 2, 3, 4, 5, 6, 7, 8, 9, 10], 5)"
   ]
  },
  {
   "cell_type": "markdown",
   "id": "d503ca90",
   "metadata": {},
   "source": [
    "None paramter is changed, only used to threat data and return a new list by list comprehension. It's not easy to convert a inpure function into a pure one, but sometimes it is possible, but you have to check if it's really going to bring more advantages than disadvantages, so check smartly. \n",
    "\n",
    "Keeping a function as a pure one is very important in a Machine Learning Context, because the function is going to do memory usage in a wise way.\n",
    "\n",
    "Ok ok, i know what is functional paradigm, but what are its advantages for ML? Simple, for this area we are going to model a lot of mathmatical functions that are going to be used in our training or test models, so we need a program code that works in a consistent way among the development process, that solves a problem in a wise and consistent way. Instead of modifying states of variables or data structures as we do in another paradigms, in functional programming we only model the problem and solve it in a consistent way, without changing any state.\n",
    "\n",
    "## Functions as Objects\n",
    "\n",
    "All variables in python are objects, wich means that they are instances of classes with methods and attributes, consuming certain amount of memory. With functions, python work with the same way:"
   ]
  },
  {
   "cell_type": "code",
   "execution_count": 5,
   "id": "79118434",
   "metadata": {},
   "outputs": [
    {
     "name": "stdout",
     "output_type": "stream",
     "text": [
      "Result of 1 + 2: 3; Type of 'foo': <class 'function'>\n"
     ]
    }
   ],
   "source": [
    "def sum_two_real_numbers(a, b):\n",
    "    return a + b\n",
    "\n",
    "foo = sum_two_real_numbers\n",
    "print(f'Result of 1 + 2: {foo(1, 2)}; Type of \\'foo\\': {type(foo)}')"
   ]
  },
  {
   "cell_type": "markdown",
   "id": "ee09cc12",
   "metadata": {},
   "source": [
    "So, this tells us that functions are objects, and objects have attributes, methods and be assigned for other objects.\n",
    "Okay, this is kinda weird, so you are telling me that we can have functions assigned to variables as objects? YES! And to say more, we can pass a function as argument to another function, this function passed as argument is called a **callback function**. \n",
    "\n",
    "Take this example: supose that we want to split a list of persons ages according to the vaccination age criteria: groups with ages major or equal to 75 are on the first group, major than 60 and minor than 75 are on the second group and the rest of persons are on third group."
   ]
  },
  {
   "cell_type": "code",
   "execution_count": 8,
   "id": "9af38074",
   "metadata": {},
   "outputs": [
    {
     "name": "stdout",
     "output_type": "stream",
     "text": [
      "First group: [75, 78, 80, 90]\n",
      "Second group: [60, 62]\n",
      "Third group: [45, 55, 59]\n"
     ]
    }
   ],
   "source": [
    "def first_group(age):\n",
    "    return age >= 75\n",
    "\n",
    "def second_group(age):\n",
    "    return age >= 60 and age < 75\n",
    "\n",
    "def third_group(age):\n",
    "    return age < 60\n",
    "\n",
    "def filter_ages_by_group(ages_list, age_criteria):\n",
    "    new_age_list = [age for age in ages_list if age_criteria(age)]\n",
    "    return new_age_list\n",
    "\n",
    "print(f'First group: {filter_ages_by_group([45, 55, 59, 60, 62, 75, 78, 80, 90], first_group)}')\n",
    "print(f'Second group: {filter_ages_by_group([45, 55, 59, 60, 62, 75, 78, 80, 90], second_group)}')\n",
    "print(f'Third group: {filter_ages_by_group([45, 55, 59, 60, 62, 75, 78, 80, 90], third_group)}')"
   ]
  }
 ],
 "metadata": {
  "kernelspec": {
   "display_name": "Python 3",
   "language": "python",
   "name": "python3"
  },
  "language_info": {
   "codemirror_mode": {
    "name": "ipython",
    "version": 3
   },
   "file_extension": ".py",
   "mimetype": "text/x-python",
   "name": "python",
   "nbconvert_exporter": "python",
   "pygments_lexer": "ipython3",
   "version": "3.8.8"
  }
 },
 "nbformat": 4,
 "nbformat_minor": 5
}
